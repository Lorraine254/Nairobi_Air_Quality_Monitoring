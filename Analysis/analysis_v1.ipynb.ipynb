{
 "cells": [
  {
   "cell_type": "markdown",
   "metadata": {},
   "source": [
    "# NAIROBI AIR QUALITY MONITORING - PREDICTING PM2.5 CONCENTRATION\n",
    "---\n"
   ]
  },
  {
   "cell_type": "markdown",
   "metadata": {},
   "source": [
    "## Background of the Study"
   ]
  },
  {
   "cell_type": "markdown",
   "metadata": {},
   "source": [
    "The world has been experiencing the biggest wave of urban growth in history[1]. Currently, over 50 per cent of the global population lives in urban areas- this is 3.9 billion, and by 2030, this number will rise to about 5 billion[1]. From an estimated 237 million in 1995 to an estimated 472 million in 2015, Africa experienced an average\n",
    "urban growth of 3.44% per year[2]. Rapid industrialization and urbanization is associated with extremely severe air pollution that causes increasing negative effects on human health, visibility,and climate change[3].\n",
    "\n",
    "According to World Health Organization, air pollution is associated with 7 million premature deaths annually [4]. In Kenya, approximately 19,112 die from air pollution, with\n",
    "6,672 being children yearly[5]. Among these air pollutants, we have PM2.5 which can traversethe nasal passages thus bringing about a great threat to the human body [4].The study conducted by [6] in 2018 proposed that PM2.5 concentrations above minimum exposure levels caused 22% of infant deaths in the 30 countries that he was investigating [6].\n",
    "\n",
    "With the growing of evidence linking air pollution to adverse health outcomes, an urgency arises on finding sustainable and innovative solutions. Predictive modeling stands as a promising avenue for facilitating timely public health interventions. By leveraging predictive modeling techniques, we can anticipate air pollution trends, identify high-risk areas, and implement targeted interventions to mitigate its impact on human health and the environment. Predicting air quality is a complex task due to the dynamic nature, volatility, and high variability in time and space of pollutants and particulates [7]. Based on the reviewed literature on Machine Learning Applications in Air Pollution. To the best of our knowledge,  no work was done involving the analysis and prediction of air pollution in Nairobi. Therefore this study intends to predict PM 2.5 concentration using linear machine learning models."
   ]
  },
  {
   "cell_type": "markdown",
   "metadata": {},
   "source": [
    "## Research objectives"
   ]
  },
  {
   "cell_type": "markdown",
   "metadata": {},
   "source": [
    "1. To fit linear models.\n",
    "\n",
    "2. To evaluate the models\n",
    "\n",
    "3. To optimize the best model."
   ]
  },
  {
   "cell_type": "markdown",
   "metadata": {},
   "source": [
    "## Research Questions"
   ]
  },
  {
   "cell_type": "markdown",
   "metadata": {},
   "source": [
    "1. How accurately can linear models predict PM2.5 concentrations in Nairobi?\n",
    "\n",
    "2. How does the performance of different linear models compare in predicting PM2.5 concentrations?\n",
    "\n",
    "3.  Can optimizing the parameters of linear models significantly improve their predictive accuracy?\n",
    "\n",
    "4. What has been the progression/ trend of PM 2.5 concentration over the years?\n"
   ]
  },
  {
   "cell_type": "markdown",
   "metadata": {},
   "source": [
    "## Data Description"
   ]
  },
  {
   "cell_type": "markdown",
   "metadata": {},
   "source": [
    "This project intends to use data from Sensors Africa. Sensors AFRICA is a pan-African citizen science initiative that uses sensors to monitor air, water and sound pollution to give citizens actionable information about their cities. Sensors Africa uses low-cost air quality sensors to collect data on air pollution. The sensors are distributed in different areas within Nairobi.The sensors data is open source and can be found at: https://open.africa/dataset/sensorsafrica-airquality-archive-nairobi. The data has been collected from June 2017 to March 2024. The data is recorded at an interval of seconds from the different sensors on a daily basis. The specific variables found in the dataset are defined in the table below:"
   ]
  },
  {
   "cell_type": "markdown",
   "metadata": {},
   "source": [
    "| Column Name| Description| Units | Sample Values |\n",
    "|---- |----|----|----|\n",
    "| Sensor_id  | Unique identifier used to differentiate the sensors within a network |-|49 |\n",
    "| Sensor_type |The dataset has two types of sensors used: pms5003 (is a specific model of particulate matter (PM) sensor commonly used for air quality monitoring) and DHT22 ( is a type of sensor commonly used to measure temperature and humidity in the air) |- |pms5003, DHT22 |\n",
    "| location  |  Location where the sensor is deployed, represented as numeric codes | -| 3573, 3612|\n",
    "| lat  |Latitude coordinate of the sensor's location  | - | -1.296 |\n",
    "| lon |Longitude coordinate of the sensor's location|-|36.776 |\n",
    "|Timestamp|The date and time when the measurement was recorded by a particular sensor.|-|2024-01-01T00:12:22.156424+00:00|\n",
    "|Value_type|Indicates the type of value being measured by the sensor. Where P0 in the data represents PM1, P2 represents PM2.5, and P1 represents PM10|- | P2, humidity,temperature |\n",
    "|Value|The actual measurement value recorded by the sensor corresponding to the \"value_type\"| µg/m³, Temperature (C), Humidity (%) |P2 = 22.4µg/m³ |"
   ]
  },
  {
   "cell_type": "markdown",
   "metadata": {},
   "source": [
    "---"
   ]
  },
  {
   "cell_type": "code",
   "execution_count": 2,
   "metadata": {},
   "outputs": [],
   "source": [
    "#loading required libraries\n",
    "import pandas as pd\n",
    "import numpy as np\n",
    "import glob\n",
    "import warnings\n",
    "warnings.filterwarnings('ignore')\n",
    "from dateutil.parser import parse\n",
    "# Define a custom date parser to handle inconsistent datetime formats\n",
    "def custom_date_parser(date_str):\n",
    "    return parse(date_str)"
   ]
  },
  {
   "cell_type": "markdown",
   "metadata": {},
   "source": [
    "## Data Aggregation"
   ]
  },
  {
   "cell_type": "markdown",
   "metadata": {},
   "source": [
    "- This step involves collecting and organizing raw data from various sources into a format that is easier to analyze. It may include summarizing, averaging, or otherwise consolidating data points to create a more manageable dataset. "
   ]
  },
  {
   "cell_type": "code",
   "execution_count": 3,
   "metadata": {},
   "outputs": [],
   "source": [
    "#Defining a function to perform the aggregation\n",
    "\n",
    "def aggregate_sensor_data(data_dir, output_file):\n",
    "    # Define the columns to keep\n",
    "    columns_to_keep = ['timestamp', 'P2', 'P1', 'humidity']\n",
    "\n",
    "    # Create an empty DataFrame to store the aggregated data\n",
    "    aggregated_data = pd.DataFrame()\n",
    "\n",
    "    # Use glob to get all file paths in the directory\n",
    "    file_paths = glob.glob(f'{data_dir}/*.csv')\n",
    "\n",
    "    for file_path in file_paths:\n",
    "        # Read the data with appropriate dtype settings\n",
    "        df = pd.read_csv(file_path, sep=';', parse_dates=['timestamp'], low_memory=False)\n",
    "\n",
    "        # Drop the specified columns, ignoring errors if they do not exist\n",
    "        columns_to_drop = ['location', 'sensor_id', 'sensor_type', 'lat', 'lon']\n",
    "        df = df.drop(columns=[col for col in columns_to_drop if col in df.columns], errors='ignore')\n",
    "\n",
    "        # Select only the columns needed for pivoting\n",
    "        df = df[['timestamp', 'value_type', 'value']]\n",
    "\n",
    "        # Temporarily rename 'timestamp' to avoid conflicts during pivoting\n",
    "        df.rename(columns={'timestamp': 'timestamp_temp'}, inplace=True)\n",
    "\n",
    "        # Pivot the DataFrame to have value_type as columns\n",
    "        df_pivot = df.pivot_table(index='timestamp_temp', columns='value_type', values='value', aggfunc='first').reset_index()\n",
    "\n",
    "        # Rename 'timestamp_temp' back to 'timestamp'\n",
    "        df_pivot.rename(columns={'timestamp_temp': 'timestamp'}, inplace=True)\n",
    "\n",
    "        # Ensure no duplicate columns\n",
    "        df_pivot = df_pivot.loc[:, ~df_pivot.columns.duplicated()]\n",
    "\n",
    "        # Select only the columns to keep (some columns might not exist in some datasets, hence the intersection)\n",
    "        df_pivot = df_pivot[['timestamp'] + list(set(columns_to_keep) & set(df_pivot.columns))]\n",
    "\n",
    "        # Append to the aggregated DataFrame\n",
    "        aggregated_data = pd.concat([aggregated_data, df_pivot], ignore_index=True)\n",
    "\n",
    "    # Drop any duplicate 'timestamp' columns if they exist\n",
    "    aggregated_data = aggregated_data.loc[:,~aggregated_data.columns.duplicated()]\n",
    "\n",
    "    # Save the aggregated data to a new CSV file\n",
    "    aggregated_data.to_csv(output_file, index=False)"
   ]
  },
  {
   "cell_type": "code",
   "execution_count": 4,
   "metadata": {},
   "outputs": [],
   "source": [
    "# Applying the function\n",
    "data_dir = 'C:/Users/USER/Documents/Msc_DSA/Module 2/Research Methodology/Sensor Africal Data for Nairobi/Analysis/Data'\n",
    "output_file = 'aggregated_data.csv'\n",
    "aggregate_sensor_data(data_dir, output_file)\n"
   ]
  },
  {
   "cell_type": "markdown",
   "metadata": {},
   "source": [
    "**Loading the aggregated data**"
   ]
  },
  {
   "cell_type": "code",
   "execution_count": 5,
   "metadata": {},
   "outputs": [
    {
     "data": {
      "text/html": [
       "<div>\n",
       "<style scoped>\n",
       "    .dataframe tbody tr th:only-of-type {\n",
       "        vertical-align: middle;\n",
       "    }\n",
       "\n",
       "    .dataframe tbody tr th {\n",
       "        vertical-align: top;\n",
       "    }\n",
       "\n",
       "    .dataframe thead th {\n",
       "        text-align: right;\n",
       "    }\n",
       "</style>\n",
       "<table border=\"1\" class=\"dataframe\">\n",
       "  <thead>\n",
       "    <tr style=\"text-align: right;\">\n",
       "      <th></th>\n",
       "      <th>timestamp</th>\n",
       "      <th>P1</th>\n",
       "      <th>humidity</th>\n",
       "      <th>P2</th>\n",
       "    </tr>\n",
       "  </thead>\n",
       "  <tbody>\n",
       "    <tr>\n",
       "      <th>0</th>\n",
       "      <td>2018-04-01 00:02:07.071983+00:00</td>\n",
       "      <td>NaN</td>\n",
       "      <td>65.8</td>\n",
       "      <td>NaN</td>\n",
       "    </tr>\n",
       "    <tr>\n",
       "      <th>1</th>\n",
       "      <td>2018-04-01 00:02:07.111462+00:00</td>\n",
       "      <td>7.8</td>\n",
       "      <td>NaN</td>\n",
       "      <td>4.4</td>\n",
       "    </tr>\n",
       "    <tr>\n",
       "      <th>2</th>\n",
       "      <td>2018-04-01 00:03:56.860816+00:00</td>\n",
       "      <td>NaN</td>\n",
       "      <td>76.3</td>\n",
       "      <td>NaN</td>\n",
       "    </tr>\n",
       "    <tr>\n",
       "      <th>3</th>\n",
       "      <td>2018-04-01 00:04:36.364175+00:00</td>\n",
       "      <td>6.83</td>\n",
       "      <td>NaN</td>\n",
       "      <td>4.43</td>\n",
       "    </tr>\n",
       "    <tr>\n",
       "      <th>4</th>\n",
       "      <td>2018-04-01 00:07:18.801040+00:00</td>\n",
       "      <td>7.87</td>\n",
       "      <td>NaN</td>\n",
       "      <td>4.5</td>\n",
       "    </tr>\n",
       "  </tbody>\n",
       "</table>\n",
       "</div>"
      ],
      "text/plain": [
       "                          timestamp    P1 humidity    P2\n",
       "0  2018-04-01 00:02:07.071983+00:00   NaN     65.8   NaN\n",
       "1  2018-04-01 00:02:07.111462+00:00   7.8      NaN   4.4\n",
       "2  2018-04-01 00:03:56.860816+00:00   NaN     76.3   NaN\n",
       "3  2018-04-01 00:04:36.364175+00:00  6.83      NaN  4.43\n",
       "4  2018-04-01 00:07:18.801040+00:00  7.87      NaN   4.5"
      ]
     },
     "execution_count": 5,
     "metadata": {},
     "output_type": "execute_result"
    }
   ],
   "source": [
    "# Load the data\n",
    "data = pd.read_csv('aggregated_data.csv')\n",
    "data.head()"
   ]
  },
  {
   "cell_type": "code",
   "execution_count": 6,
   "metadata": {},
   "outputs": [
    {
     "data": {
      "text/plain": [
       "(27722456, 4)"
      ]
     },
     "execution_count": 6,
     "metadata": {},
     "output_type": "execute_result"
    }
   ],
   "source": [
    "data.shape"
   ]
  },
  {
   "cell_type": "code",
   "execution_count": 8,
   "metadata": {},
   "outputs": [
    {
     "data": {
      "text/plain": [
       "timestamp    object\n",
       "P1           object\n",
       "humidity     object\n",
       "P2           object\n",
       "dtype: object"
      ]
     },
     "execution_count": 8,
     "metadata": {},
     "output_type": "execute_result"
    }
   ],
   "source": [
    "data.dtypes"
   ]
  },
  {
   "cell_type": "markdown",
   "metadata": {},
   "source": [
    "**Dealing with Timestamp data**"
   ]
  },
  {
   "cell_type": "code",
   "execution_count": 24,
   "metadata": {},
   "outputs": [
    {
     "data": {
      "text/html": [
       "<div>\n",
       "<style scoped>\n",
       "    .dataframe tbody tr th:only-of-type {\n",
       "        vertical-align: middle;\n",
       "    }\n",
       "\n",
       "    .dataframe tbody tr th {\n",
       "        vertical-align: top;\n",
       "    }\n",
       "\n",
       "    .dataframe thead th {\n",
       "        text-align: right;\n",
       "    }\n",
       "</style>\n",
       "<table border=\"1\" class=\"dataframe\">\n",
       "  <thead>\n",
       "    <tr style=\"text-align: right;\">\n",
       "      <th></th>\n",
       "      <th>timestamp</th>\n",
       "      <th>timestamp_format</th>\n",
       "    </tr>\n",
       "  </thead>\n",
       "  <tbody>\n",
       "    <tr>\n",
       "      <th>0</th>\n",
       "      <td>2018-04-01 00:02:07.071983+00:00</td>\n",
       "      <td>Format 1</td>\n",
       "    </tr>\n",
       "    <tr>\n",
       "      <th>1</th>\n",
       "      <td>2018-04-01 00:02:07.111462+00:00</td>\n",
       "      <td>Format 1</td>\n",
       "    </tr>\n",
       "    <tr>\n",
       "      <th>2</th>\n",
       "      <td>2018-04-01 00:03:56.860816+00:00</td>\n",
       "      <td>Format 1</td>\n",
       "    </tr>\n",
       "    <tr>\n",
       "      <th>3</th>\n",
       "      <td>2018-04-01 00:04:36.364175+00:00</td>\n",
       "      <td>Format 1</td>\n",
       "    </tr>\n",
       "    <tr>\n",
       "      <th>4</th>\n",
       "      <td>2018-04-01 00:07:18.801040+00:00</td>\n",
       "      <td>Format 1</td>\n",
       "    </tr>\n",
       "    <tr>\n",
       "      <th>...</th>\n",
       "      <td>...</td>\n",
       "      <td>...</td>\n",
       "    </tr>\n",
       "    <tr>\n",
       "      <th>27722451</th>\n",
       "      <td>2023-09-27 13:12:23.073517+00:00</td>\n",
       "      <td>Format 1</td>\n",
       "    </tr>\n",
       "    <tr>\n",
       "      <th>27722452</th>\n",
       "      <td>2023-09-27 13:12:24.162530+00:00</td>\n",
       "      <td>Format 1</td>\n",
       "    </tr>\n",
       "    <tr>\n",
       "      <th>27722453</th>\n",
       "      <td>2023-09-27 13:12:34.119551+00:00</td>\n",
       "      <td>Format 1</td>\n",
       "    </tr>\n",
       "    <tr>\n",
       "      <th>27722454</th>\n",
       "      <td>2023-09-27 13:12:46.703602+00:00</td>\n",
       "      <td>Format 1</td>\n",
       "    </tr>\n",
       "    <tr>\n",
       "      <th>27722455</th>\n",
       "      <td>2023-09-27 13:12:55.357354+00:00</td>\n",
       "      <td>Format 1</td>\n",
       "    </tr>\n",
       "  </tbody>\n",
       "</table>\n",
       "<p>27722456 rows × 2 columns</p>\n",
       "</div>"
      ],
      "text/plain": [
       "                                 timestamp timestamp_format\n",
       "0         2018-04-01 00:02:07.071983+00:00         Format 1\n",
       "1         2018-04-01 00:02:07.111462+00:00         Format 1\n",
       "2         2018-04-01 00:03:56.860816+00:00         Format 1\n",
       "3         2018-04-01 00:04:36.364175+00:00         Format 1\n",
       "4         2018-04-01 00:07:18.801040+00:00         Format 1\n",
       "...                                    ...              ...\n",
       "27722451  2023-09-27 13:12:23.073517+00:00         Format 1\n",
       "27722452  2023-09-27 13:12:24.162530+00:00         Format 1\n",
       "27722453  2023-09-27 13:12:34.119551+00:00         Format 1\n",
       "27722454  2023-09-27 13:12:46.703602+00:00         Format 1\n",
       "27722455  2023-09-27 13:12:55.357354+00:00         Format 1\n",
       "\n",
       "[27722456 rows x 2 columns]"
      ]
     },
     "execution_count": 24,
     "metadata": {},
     "output_type": "execute_result"
    }
   ],
   "source": [
    "# checking the format of the timestamps in my dataset\n",
    "import re\n",
    "\n",
    "def check_format(timestamp):\n",
    "    if re.match(r'\\d{4}-\\d{2}-\\d{2} \\d{2}:\\d{2}:\\d{2}\\.\\d{3,6}[+-]\\d{2}:\\d{2}', timestamp): #'%Y-%m-%d %H:%M:%S.%f%z'\n",
    "        return 'Format 1'\n",
    "    elif re.match(r'\\d{4}-\\d{2}-\\d{2}T\\d{2}:\\d{2}:\\d{2}\\.\\d{6}[+-]\\d{2}:\\d{2}', timestamp): # %Y-%m-%dT%H:%M:%S.%f%z\n",
    "        return 'Format 2'\n",
    "    elif re.match(r'\\d{4}-\\d{2}-\\d{2}T\\d{2}:\\d{2}:\\d{2}[+-]\\d{2}:\\d{2}', timestamp): #  %Y-%m-%dT%H:%M:%S%z\n",
    "        return 'Format 3'\n",
    "    else:\n",
    "        return 'Unknown Format'\n",
    "        \n",
    "# Apply function to your timestamp column\n",
    "data['timestamp_format'] = data['timestamp'].apply(check_format)\n",
    "\n",
    "# Print the results\n",
    "data[['timestamp', 'timestamp_format']]"
   ]
  },
  {
   "cell_type": "code",
   "execution_count": 25,
   "metadata": {},
   "outputs": [
    {
     "data": {
      "text/html": [
       "<div>\n",
       "<style scoped>\n",
       "    .dataframe tbody tr th:only-of-type {\n",
       "        vertical-align: middle;\n",
       "    }\n",
       "\n",
       "    .dataframe tbody tr th {\n",
       "        vertical-align: top;\n",
       "    }\n",
       "\n",
       "    .dataframe thead th {\n",
       "        text-align: right;\n",
       "    }\n",
       "</style>\n",
       "<table border=\"1\" class=\"dataframe\">\n",
       "  <thead>\n",
       "    <tr style=\"text-align: right;\">\n",
       "      <th></th>\n",
       "      <th>timestamp</th>\n",
       "      <th>P1</th>\n",
       "      <th>humidity</th>\n",
       "      <th>P2</th>\n",
       "      <th>timestamp_format</th>\n",
       "    </tr>\n",
       "  </thead>\n",
       "  <tbody>\n",
       "  </tbody>\n",
       "</table>\n",
       "</div>"
      ],
      "text/plain": [
       "Empty DataFrame\n",
       "Columns: [timestamp, P1, humidity, P2, timestamp_format]\n",
       "Index: []"
      ]
     },
     "execution_count": 25,
     "metadata": {},
     "output_type": "execute_result"
    }
   ],
   "source": [
    "# Filter rows with unknown format\n",
    "unknown_format_df = data[data['timestamp_format'] == 'Unknown Format']\n",
    "unknown_format_df"
   ]
  },
  {
   "cell_type": "markdown",
   "metadata": {},
   "source": [
    "-> All the formats in the datasets were identified and none of them was identified as unknown"
   ]
  },
  {
   "cell_type": "code",
   "execution_count": 29,
   "metadata": {},
   "outputs": [],
   "source": [
    "from datetime import datetime\n",
    "\n",
    "#Defining timestamp to datetime\n",
    "def parse_timestamp(timestamp, fmt):\n",
    "    if fmt == 'Format 1':\n",
    "        return datetime.strptime(timestamp, '%Y-%m-%d %H:%M:%S.%f%z')\n",
    "    elif fmt == 'Format 2':\n",
    "        return datetime.strptime(timestamp, '%Y-%m-%dT%H:%M:%S.%f%z')\n",
    "    elif fmt == 'Format 3':\n",
    "        return datetime.strptime(timestamp, '%Y-%m-%dT%H:%M:%S%z')\n",
    "    else:\n",
    "        return None\n"
   ]
  },
  {
   "cell_type": "code",
   "execution_count": 30,
   "metadata": {},
   "outputs": [
    {
     "data": {
      "text/html": [
       "<div>\n",
       "<style scoped>\n",
       "    .dataframe tbody tr th:only-of-type {\n",
       "        vertical-align: middle;\n",
       "    }\n",
       "\n",
       "    .dataframe tbody tr th {\n",
       "        vertical-align: top;\n",
       "    }\n",
       "\n",
       "    .dataframe thead th {\n",
       "        text-align: right;\n",
       "    }\n",
       "</style>\n",
       "<table border=\"1\" class=\"dataframe\">\n",
       "  <thead>\n",
       "    <tr style=\"text-align: right;\">\n",
       "      <th></th>\n",
       "      <th>timestamp</th>\n",
       "      <th>P1</th>\n",
       "      <th>humidity</th>\n",
       "      <th>P2</th>\n",
       "      <th>timestamp_format</th>\n",
       "      <th>parsed_timestamp</th>\n",
       "    </tr>\n",
       "  </thead>\n",
       "  <tbody>\n",
       "    <tr>\n",
       "      <th>0</th>\n",
       "      <td>2018-01-01 00:02:00.522075+00:00</td>\n",
       "      <td>27.2</td>\n",
       "      <td>NaN</td>\n",
       "      <td>12.4</td>\n",
       "      <td>Format 1</td>\n",
       "      <td>2018-01-01 00:02:00.522075+00:00</td>\n",
       "    </tr>\n",
       "    <tr>\n",
       "      <th>1</th>\n",
       "      <td>2018-01-01 00:02:09.561058+00:00</td>\n",
       "      <td>27.2</td>\n",
       "      <td>NaN</td>\n",
       "      <td>12.4</td>\n",
       "      <td>Format 1</td>\n",
       "      <td>2018-01-01 00:02:09.561058+00:00</td>\n",
       "    </tr>\n",
       "    <tr>\n",
       "      <th>2</th>\n",
       "      <td>2018-01-01 00:02:18.891954+00:00</td>\n",
       "      <td>NaN</td>\n",
       "      <td>55.7</td>\n",
       "      <td>NaN</td>\n",
       "      <td>Format 1</td>\n",
       "      <td>2018-01-01 00:02:18.891954+00:00</td>\n",
       "    </tr>\n",
       "    <tr>\n",
       "      <th>3</th>\n",
       "      <td>2018-01-01 00:02:28.422689+00:00</td>\n",
       "      <td>NaN</td>\n",
       "      <td>55.7</td>\n",
       "      <td>NaN</td>\n",
       "      <td>Format 1</td>\n",
       "      <td>2018-01-01 00:02:28.422689+00:00</td>\n",
       "    </tr>\n",
       "    <tr>\n",
       "      <th>4</th>\n",
       "      <td>2018-01-01 00:05:13.601185+00:00</td>\n",
       "      <td>18.43</td>\n",
       "      <td>NaN</td>\n",
       "      <td>12.13</td>\n",
       "      <td>Format 1</td>\n",
       "      <td>2018-01-01 00:05:13.601185+00:00</td>\n",
       "    </tr>\n",
       "    <tr>\n",
       "      <th>...</th>\n",
       "      <td>...</td>\n",
       "      <td>...</td>\n",
       "      <td>...</td>\n",
       "      <td>...</td>\n",
       "      <td>...</td>\n",
       "      <td>...</td>\n",
       "    </tr>\n",
       "    <tr>\n",
       "      <th>27722451</th>\n",
       "      <td>2024-03-19 04:29:38.801140+00:00</td>\n",
       "      <td>NaN</td>\n",
       "      <td>99.9</td>\n",
       "      <td>NaN</td>\n",
       "      <td>Format 1</td>\n",
       "      <td>2024-03-19 04:29:38.801140+00:00</td>\n",
       "    </tr>\n",
       "    <tr>\n",
       "      <th>27722452</th>\n",
       "      <td>2024-03-19 04:29:54.950380+00:00</td>\n",
       "      <td>45.0</td>\n",
       "      <td>NaN</td>\n",
       "      <td>43.0</td>\n",
       "      <td>Format 1</td>\n",
       "      <td>2024-03-19 04:29:54.950380+00:00</td>\n",
       "    </tr>\n",
       "    <tr>\n",
       "      <th>27722453</th>\n",
       "      <td>2024-03-19 04:30:09.830855+00:00</td>\n",
       "      <td>47.2</td>\n",
       "      <td>NaN</td>\n",
       "      <td>38.2</td>\n",
       "      <td>Format 1</td>\n",
       "      <td>2024-03-19 04:30:09.830855+00:00</td>\n",
       "    </tr>\n",
       "    <tr>\n",
       "      <th>27722454</th>\n",
       "      <td>2024-03-19 04:30:10.744598+00:00</td>\n",
       "      <td>NaN</td>\n",
       "      <td>99.9</td>\n",
       "      <td>NaN</td>\n",
       "      <td>Format 1</td>\n",
       "      <td>2024-03-19 04:30:10.744598+00:00</td>\n",
       "    </tr>\n",
       "    <tr>\n",
       "      <th>27722455</th>\n",
       "      <td>2024-03-19 04:30:42.060092+00:00</td>\n",
       "      <td>49.0</td>\n",
       "      <td>NaN</td>\n",
       "      <td>38.5</td>\n",
       "      <td>Format 1</td>\n",
       "      <td>2024-03-19 04:30:42.060092+00:00</td>\n",
       "    </tr>\n",
       "  </tbody>\n",
       "</table>\n",
       "<p>27722456 rows × 6 columns</p>\n",
       "</div>"
      ],
      "text/plain": [
       "                                 timestamp     P1 humidity     P2  \\\n",
       "0         2018-01-01 00:02:00.522075+00:00   27.2      NaN   12.4   \n",
       "1         2018-01-01 00:02:09.561058+00:00   27.2      NaN   12.4   \n",
       "2         2018-01-01 00:02:18.891954+00:00    NaN     55.7    NaN   \n",
       "3         2018-01-01 00:02:28.422689+00:00    NaN     55.7    NaN   \n",
       "4         2018-01-01 00:05:13.601185+00:00  18.43      NaN  12.13   \n",
       "...                                    ...    ...      ...    ...   \n",
       "27722451  2024-03-19 04:29:38.801140+00:00    NaN     99.9    NaN   \n",
       "27722452  2024-03-19 04:29:54.950380+00:00   45.0      NaN   43.0   \n",
       "27722453  2024-03-19 04:30:09.830855+00:00   47.2      NaN   38.2   \n",
       "27722454  2024-03-19 04:30:10.744598+00:00    NaN     99.9    NaN   \n",
       "27722455  2024-03-19 04:30:42.060092+00:00   49.0      NaN   38.5   \n",
       "\n",
       "         timestamp_format                 parsed_timestamp  \n",
       "0                Format 1 2018-01-01 00:02:00.522075+00:00  \n",
       "1                Format 1 2018-01-01 00:02:09.561058+00:00  \n",
       "2                Format 1 2018-01-01 00:02:18.891954+00:00  \n",
       "3                Format 1 2018-01-01 00:02:28.422689+00:00  \n",
       "4                Format 1 2018-01-01 00:05:13.601185+00:00  \n",
       "...                   ...                              ...  \n",
       "27722451         Format 1 2024-03-19 04:29:38.801140+00:00  \n",
       "27722452         Format 1 2024-03-19 04:29:54.950380+00:00  \n",
       "27722453         Format 1 2024-03-19 04:30:09.830855+00:00  \n",
       "27722454         Format 1 2024-03-19 04:30:10.744598+00:00  \n",
       "27722455         Format 1 2024-03-19 04:30:42.060092+00:00  \n",
       "\n",
       "[27722456 rows x 6 columns]"
      ]
     },
     "execution_count": 30,
     "metadata": {},
     "output_type": "execute_result"
    }
   ],
   "source": [
    "# Applying the function to the data\n",
    "data['parsed_timestamp'] = data.apply(lambda row: parse_timestamp(row['timestamp'], row['timestamp_format']), axis=1)\n",
    "\n",
    "# Sort the DataFrame by the parsed timestamps\n",
    "data = data.sort_values(by='parsed_timestamp')\n",
    "\n",
    "# Reset index after sorting\n",
    "data = data.reset_index(drop=True)\n",
    "data\n"
   ]
  },
  {
   "cell_type": "code",
   "execution_count": 31,
   "metadata": {},
   "outputs": [
    {
     "data": {
      "text/html": [
       "<div>\n",
       "<style scoped>\n",
       "    .dataframe tbody tr th:only-of-type {\n",
       "        vertical-align: middle;\n",
       "    }\n",
       "\n",
       "    .dataframe tbody tr th {\n",
       "        vertical-align: top;\n",
       "    }\n",
       "\n",
       "    .dataframe thead th {\n",
       "        text-align: right;\n",
       "    }\n",
       "</style>\n",
       "<table border=\"1\" class=\"dataframe\">\n",
       "  <thead>\n",
       "    <tr style=\"text-align: right;\">\n",
       "      <th></th>\n",
       "      <th>P1</th>\n",
       "      <th>humidity</th>\n",
       "      <th>P2</th>\n",
       "    </tr>\n",
       "    <tr>\n",
       "      <th>timestamp</th>\n",
       "      <th></th>\n",
       "      <th></th>\n",
       "      <th></th>\n",
       "    </tr>\n",
       "  </thead>\n",
       "  <tbody>\n",
       "    <tr>\n",
       "      <th>2018-01-01 00:02:00.522075+00:00</th>\n",
       "      <td>27.2</td>\n",
       "      <td>NaN</td>\n",
       "      <td>12.4</td>\n",
       "    </tr>\n",
       "    <tr>\n",
       "      <th>2018-01-01 00:02:09.561058+00:00</th>\n",
       "      <td>27.2</td>\n",
       "      <td>NaN</td>\n",
       "      <td>12.4</td>\n",
       "    </tr>\n",
       "    <tr>\n",
       "      <th>2018-01-01 00:02:18.891954+00:00</th>\n",
       "      <td>NaN</td>\n",
       "      <td>55.7</td>\n",
       "      <td>NaN</td>\n",
       "    </tr>\n",
       "    <tr>\n",
       "      <th>2018-01-01 00:02:28.422689+00:00</th>\n",
       "      <td>NaN</td>\n",
       "      <td>55.7</td>\n",
       "      <td>NaN</td>\n",
       "    </tr>\n",
       "    <tr>\n",
       "      <th>2018-01-01 00:05:13.601185+00:00</th>\n",
       "      <td>18.43</td>\n",
       "      <td>NaN</td>\n",
       "      <td>12.13</td>\n",
       "    </tr>\n",
       "    <tr>\n",
       "      <th>...</th>\n",
       "      <td>...</td>\n",
       "      <td>...</td>\n",
       "      <td>...</td>\n",
       "    </tr>\n",
       "    <tr>\n",
       "      <th>2024-03-19 04:29:38.801140+00:00</th>\n",
       "      <td>NaN</td>\n",
       "      <td>99.9</td>\n",
       "      <td>NaN</td>\n",
       "    </tr>\n",
       "    <tr>\n",
       "      <th>2024-03-19 04:29:54.950380+00:00</th>\n",
       "      <td>45.0</td>\n",
       "      <td>NaN</td>\n",
       "      <td>43.0</td>\n",
       "    </tr>\n",
       "    <tr>\n",
       "      <th>2024-03-19 04:30:09.830855+00:00</th>\n",
       "      <td>47.2</td>\n",
       "      <td>NaN</td>\n",
       "      <td>38.2</td>\n",
       "    </tr>\n",
       "    <tr>\n",
       "      <th>2024-03-19 04:30:10.744598+00:00</th>\n",
       "      <td>NaN</td>\n",
       "      <td>99.9</td>\n",
       "      <td>NaN</td>\n",
       "    </tr>\n",
       "    <tr>\n",
       "      <th>2024-03-19 04:30:42.060092+00:00</th>\n",
       "      <td>49.0</td>\n",
       "      <td>NaN</td>\n",
       "      <td>38.5</td>\n",
       "    </tr>\n",
       "  </tbody>\n",
       "</table>\n",
       "<p>27722456 rows × 3 columns</p>\n",
       "</div>"
      ],
      "text/plain": [
       "                                     P1 humidity     P2\n",
       "timestamp                                              \n",
       "2018-01-01 00:02:00.522075+00:00   27.2      NaN   12.4\n",
       "2018-01-01 00:02:09.561058+00:00   27.2      NaN   12.4\n",
       "2018-01-01 00:02:18.891954+00:00    NaN     55.7    NaN\n",
       "2018-01-01 00:02:28.422689+00:00    NaN     55.7    NaN\n",
       "2018-01-01 00:05:13.601185+00:00  18.43      NaN  12.13\n",
       "...                                 ...      ...    ...\n",
       "2024-03-19 04:29:38.801140+00:00    NaN     99.9    NaN\n",
       "2024-03-19 04:29:54.950380+00:00   45.0      NaN   43.0\n",
       "2024-03-19 04:30:09.830855+00:00   47.2      NaN   38.2\n",
       "2024-03-19 04:30:10.744598+00:00    NaN     99.9    NaN\n",
       "2024-03-19 04:30:42.060092+00:00   49.0      NaN   38.5\n",
       "\n",
       "[27722456 rows x 3 columns]"
      ]
     },
     "execution_count": 31,
     "metadata": {},
     "output_type": "execute_result"
    }
   ],
   "source": [
    "# Drop unnecessary columns\n",
    "data_cleaned = data.drop(columns=['timestamp_format','timestamp'])\n",
    "\n",
    "# Set parsed_timestamp as the index\n",
    "data_cleaned = data_cleaned.set_index('parsed_timestamp')\n",
    "\n",
    "# Rename the index to 'timestamp'\n",
    "data_cleaned.index.name = 'timestamp'\n",
    "data_cleaned"
   ]
  },
  {
   "cell_type": "markdown",
   "metadata": {},
   "source": [
    "**Converting the data types**"
   ]
  },
  {
   "cell_type": "code",
   "execution_count": 32,
   "metadata": {},
   "outputs": [
    {
     "data": {
      "text/plain": [
       "P1          object\n",
       "humidity    object\n",
       "P2          object\n",
       "dtype: object"
      ]
     },
     "execution_count": 32,
     "metadata": {},
     "output_type": "execute_result"
    }
   ],
   "source": [
    "data_cleaned.dtypes"
   ]
  },
  {
   "cell_type": "code",
   "execution_count": 34,
   "metadata": {},
   "outputs": [
    {
     "data": {
      "text/html": [
       "<div>\n",
       "<style scoped>\n",
       "    .dataframe tbody tr th:only-of-type {\n",
       "        vertical-align: middle;\n",
       "    }\n",
       "\n",
       "    .dataframe tbody tr th {\n",
       "        vertical-align: top;\n",
       "    }\n",
       "\n",
       "    .dataframe thead th {\n",
       "        text-align: right;\n",
       "    }\n",
       "</style>\n",
       "<table border=\"1\" class=\"dataframe\">\n",
       "  <thead>\n",
       "    <tr style=\"text-align: right;\">\n",
       "      <th></th>\n",
       "      <th>P1</th>\n",
       "      <th>humidity</th>\n",
       "      <th>P2</th>\n",
       "    </tr>\n",
       "    <tr>\n",
       "      <th>timestamp</th>\n",
       "      <th></th>\n",
       "      <th></th>\n",
       "      <th></th>\n",
       "    </tr>\n",
       "  </thead>\n",
       "  <tbody>\n",
       "    <tr>\n",
       "      <th>2018-01-01 00:02:00.522075+00:00</th>\n",
       "      <td>27.20</td>\n",
       "      <td>NaN</td>\n",
       "      <td>12.40</td>\n",
       "    </tr>\n",
       "    <tr>\n",
       "      <th>2018-01-01 00:02:09.561058+00:00</th>\n",
       "      <td>27.20</td>\n",
       "      <td>NaN</td>\n",
       "      <td>12.40</td>\n",
       "    </tr>\n",
       "    <tr>\n",
       "      <th>2018-01-01 00:02:18.891954+00:00</th>\n",
       "      <td>NaN</td>\n",
       "      <td>55.7</td>\n",
       "      <td>NaN</td>\n",
       "    </tr>\n",
       "    <tr>\n",
       "      <th>2018-01-01 00:02:28.422689+00:00</th>\n",
       "      <td>NaN</td>\n",
       "      <td>55.7</td>\n",
       "      <td>NaN</td>\n",
       "    </tr>\n",
       "    <tr>\n",
       "      <th>2018-01-01 00:05:13.601185+00:00</th>\n",
       "      <td>18.43</td>\n",
       "      <td>NaN</td>\n",
       "      <td>12.13</td>\n",
       "    </tr>\n",
       "    <tr>\n",
       "      <th>...</th>\n",
       "      <td>...</td>\n",
       "      <td>...</td>\n",
       "      <td>...</td>\n",
       "    </tr>\n",
       "    <tr>\n",
       "      <th>2024-03-19 04:29:38.801140+00:00</th>\n",
       "      <td>NaN</td>\n",
       "      <td>99.9</td>\n",
       "      <td>NaN</td>\n",
       "    </tr>\n",
       "    <tr>\n",
       "      <th>2024-03-19 04:29:54.950380+00:00</th>\n",
       "      <td>45.00</td>\n",
       "      <td>NaN</td>\n",
       "      <td>43.00</td>\n",
       "    </tr>\n",
       "    <tr>\n",
       "      <th>2024-03-19 04:30:09.830855+00:00</th>\n",
       "      <td>47.20</td>\n",
       "      <td>NaN</td>\n",
       "      <td>38.20</td>\n",
       "    </tr>\n",
       "    <tr>\n",
       "      <th>2024-03-19 04:30:10.744598+00:00</th>\n",
       "      <td>NaN</td>\n",
       "      <td>99.9</td>\n",
       "      <td>NaN</td>\n",
       "    </tr>\n",
       "    <tr>\n",
       "      <th>2024-03-19 04:30:42.060092+00:00</th>\n",
       "      <td>49.00</td>\n",
       "      <td>NaN</td>\n",
       "      <td>38.50</td>\n",
       "    </tr>\n",
       "  </tbody>\n",
       "</table>\n",
       "<p>27722456 rows × 3 columns</p>\n",
       "</div>"
      ],
      "text/plain": [
       "                                     P1  humidity     P2\n",
       "timestamp                                               \n",
       "2018-01-01 00:02:00.522075+00:00  27.20       NaN  12.40\n",
       "2018-01-01 00:02:09.561058+00:00  27.20       NaN  12.40\n",
       "2018-01-01 00:02:18.891954+00:00    NaN      55.7    NaN\n",
       "2018-01-01 00:02:28.422689+00:00    NaN      55.7    NaN\n",
       "2018-01-01 00:05:13.601185+00:00  18.43       NaN  12.13\n",
       "...                                 ...       ...    ...\n",
       "2024-03-19 04:29:38.801140+00:00    NaN      99.9    NaN\n",
       "2024-03-19 04:29:54.950380+00:00  45.00       NaN  43.00\n",
       "2024-03-19 04:30:09.830855+00:00  47.20       NaN  38.20\n",
       "2024-03-19 04:30:10.744598+00:00    NaN      99.9    NaN\n",
       "2024-03-19 04:30:42.060092+00:00  49.00       NaN  38.50\n",
       "\n",
       "[27722456 rows x 3 columns]"
      ]
     },
     "execution_count": 34,
     "metadata": {},
     "output_type": "execute_result"
    }
   ],
   "source": [
    "# Convert columns to numeric types, using `pd.to_numeric` with `errors='coerce'` to handle non-numeric values\n",
    "data_cleaned['P1'] = pd.to_numeric(data_cleaned['P1'], errors='coerce')\n",
    "data_cleaned['humidity'] = pd.to_numeric(data_cleaned['humidity'], errors='coerce')\n",
    "data_cleaned['P2'] = pd.to_numeric(data_cleaned['P2'], errors='coerce')\n",
    "\n",
    "# Print the data types after conversion\n",
    "data_cleaned.dtypes\n",
    "\n",
    "# Print the cleaned DataFrame\n",
    "data_cleaned"
   ]
  },
  {
   "cell_type": "markdown",
   "metadata": {},
   "source": [
    "## Dealing with missing values"
   ]
  },
  {
   "cell_type": "code",
   "execution_count": 35,
   "metadata": {},
   "outputs": [
    {
     "data": {
      "text/plain": [
       "P1          11973951\n",
       "humidity    15754524\n",
       "P2          11973950\n",
       "dtype: int64"
      ]
     },
     "execution_count": 35,
     "metadata": {},
     "output_type": "execute_result"
    }
   ],
   "source": [
    "#checking for null values\n",
    "data_cleaned.isna().sum()"
   ]
  },
  {
   "cell_type": "markdown",
   "metadata": {},
   "source": [
    "Possible reason for the missing values:\n",
    "\n",
    "* By using errors='coerce', numbers such as: '12n80', '1^80', '44.w0', 'y4.30', '92>50' were converted to Null values -> Data entry error \n",
    "* Since the data was being collected by sensors, there is a possibility that in a particular second data was not collected by the sensor -> Missing data"
   ]
  },
  {
   "cell_type": "markdown",
   "metadata": {},
   "source": [
    " ***Analysis before imputing the data***"
   ]
  },
  {
   "cell_type": "code",
   "execution_count": 36,
   "metadata": {},
   "outputs": [
    {
     "data": {
      "text/html": [
       "<div>\n",
       "<style scoped>\n",
       "    .dataframe tbody tr th:only-of-type {\n",
       "        vertical-align: middle;\n",
       "    }\n",
       "\n",
       "    .dataframe tbody tr th {\n",
       "        vertical-align: top;\n",
       "    }\n",
       "\n",
       "    .dataframe thead th {\n",
       "        text-align: right;\n",
       "    }\n",
       "</style>\n",
       "<table border=\"1\" class=\"dataframe\">\n",
       "  <thead>\n",
       "    <tr style=\"text-align: right;\">\n",
       "      <th></th>\n",
       "      <th>P1</th>\n",
       "      <th>humidity</th>\n",
       "      <th>P2</th>\n",
       "    </tr>\n",
       "  </thead>\n",
       "  <tbody>\n",
       "    <tr>\n",
       "      <th>count</th>\n",
       "      <td>1.574850e+07</td>\n",
       "      <td>1.196793e+07</td>\n",
       "      <td>1.574851e+07</td>\n",
       "    </tr>\n",
       "    <tr>\n",
       "      <th>mean</th>\n",
       "      <td>2.257947e+01</td>\n",
       "      <td>1.045576e+02</td>\n",
       "      <td>1.831569e+01</td>\n",
       "    </tr>\n",
       "    <tr>\n",
       "      <th>std</th>\n",
       "      <td>3.560880e+01</td>\n",
       "      <td>1.520580e+03</td>\n",
       "      <td>2.939018e+01</td>\n",
       "    </tr>\n",
       "    <tr>\n",
       "      <th>min</th>\n",
       "      <td>-1.000000e+00</td>\n",
       "      <td>-2.000000e+02</td>\n",
       "      <td>-1.000000e+00</td>\n",
       "    </tr>\n",
       "    <tr>\n",
       "      <th>25%</th>\n",
       "      <td>9.850000e+00</td>\n",
       "      <td>5.280000e+01</td>\n",
       "      <td>7.000000e+00</td>\n",
       "    </tr>\n",
       "    <tr>\n",
       "      <th>50%</th>\n",
       "      <td>1.670000e+01</td>\n",
       "      <td>6.570000e+01</td>\n",
       "      <td>1.375000e+01</td>\n",
       "    </tr>\n",
       "    <tr>\n",
       "      <th>75%</th>\n",
       "      <td>2.600000e+01</td>\n",
       "      <td>8.960000e+01</td>\n",
       "      <td>2.200000e+01</td>\n",
       "    </tr>\n",
       "    <tr>\n",
       "      <th>max</th>\n",
       "      <td>2.254330e+03</td>\n",
       "      <td>6.553500e+04</td>\n",
       "      <td>1.124400e+03</td>\n",
       "    </tr>\n",
       "  </tbody>\n",
       "</table>\n",
       "</div>"
      ],
      "text/plain": [
       "                 P1      humidity            P2\n",
       "count  1.574850e+07  1.196793e+07  1.574851e+07\n",
       "mean   2.257947e+01  1.045576e+02  1.831569e+01\n",
       "std    3.560880e+01  1.520580e+03  2.939018e+01\n",
       "min   -1.000000e+00 -2.000000e+02 -1.000000e+00\n",
       "25%    9.850000e+00  5.280000e+01  7.000000e+00\n",
       "50%    1.670000e+01  6.570000e+01  1.375000e+01\n",
       "75%    2.600000e+01  8.960000e+01  2.200000e+01\n",
       "max    2.254330e+03  6.553500e+04  1.124400e+03"
      ]
     },
     "execution_count": 36,
     "metadata": {},
     "output_type": "execute_result"
    }
   ],
   "source": [
    "data_cleaned.describe()"
   ]
  },
  {
   "cell_type": "code",
   "execution_count": 37,
   "metadata": {},
   "outputs": [
    {
     "data": {
      "text/plain": [
       "array([[<Axes: title={'center': 'P1'}>,\n",
       "        <Axes: title={'center': 'humidity'}>],\n",
       "       [<Axes: title={'center': 'P2'}>, <Axes: >]], dtype=object)"
      ]
     },
     "execution_count": 37,
     "metadata": {},
     "output_type": "execute_result"
    },
    {
     "data": {
      "image/png": "[encoded data removed]",
      "text/plain": [
       "<Figure size 640x480 with 4 Axes>"
      ]
     },
     "metadata": {},
     "output_type": "display_data"
    }
   ],
   "source": [
    "data_cleaned.hist()"
   ]
  },
  {
   "cell_type": "code",
   "execution_count": 38,
   "metadata": {},
   "outputs": [
    {
     "data": {
      "text/plain": [
       "<Axes: >"
      ]
     },
     "execution_count": 38,
     "metadata": {},
     "output_type": "execute_result"
    },
    {
     "data": {
      "image/png": "[encoded data removed]",
      "text/plain": [
       "<Figure size 640x480 with 1 Axes>"
      ]
     },
     "metadata": {},
     "output_type": "display_data"
    }
   ],
   "source": [
    "data_cleaned.boxplot()"
   ]
  },
  {
   "cell_type": "markdown",
   "metadata": {},
   "source": [
    "**Performing imputation using interpolation**\n",
    "\n",
    "-> Interpolation is mostly used while working with time-series data because, in time-series data, we like to fill missing values with the previous one or two values. \n",
    "\n",
    "https://www.analyticsvidhya.com/blog/2021/06/power-of-interpolation-in-python-to-fill-missing-values/"
   ]
  },
  {
   "cell_type": "code",
   "execution_count": 44,
   "metadata": {},
   "outputs": [
    {
     "data": {
      "text/html": [
       "<div>\n",
       "<style scoped>\n",
       "    .dataframe tbody tr th:only-of-type {\n",
       "        vertical-align: middle;\n",
       "    }\n",
       "\n",
       "    .dataframe tbody tr th {\n",
       "        vertical-align: top;\n",
       "    }\n",
       "\n",
       "    .dataframe thead th {\n",
       "        text-align: right;\n",
       "    }\n",
       "</style>\n",
       "<table border=\"1\" class=\"dataframe\">\n",
       "  <thead>\n",
       "    <tr style=\"text-align: right;\">\n",
       "      <th></th>\n",
       "      <th>P1</th>\n",
       "      <th>humidity</th>\n",
       "      <th>P2</th>\n",
       "    </tr>\n",
       "    <tr>\n",
       "      <th>timestamp</th>\n",
       "      <th></th>\n",
       "      <th></th>\n",
       "      <th></th>\n",
       "    </tr>\n",
       "  </thead>\n",
       "  <tbody>\n",
       "    <tr>\n",
       "      <th>2018-01-01 00:02:00.522075+00:00</th>\n",
       "      <td>27.200000</td>\n",
       "      <td>55.700000</td>\n",
       "      <td>12.40</td>\n",
       "    </tr>\n",
       "    <tr>\n",
       "      <th>2018-01-01 00:02:09.561058+00:00</th>\n",
       "      <td>27.200000</td>\n",
       "      <td>55.700000</td>\n",
       "      <td>12.40</td>\n",
       "    </tr>\n",
       "    <tr>\n",
       "      <th>2018-01-01 00:02:18.891954+00:00</th>\n",
       "      <td>24.276667</td>\n",
       "      <td>55.700000</td>\n",
       "      <td>12.31</td>\n",
       "    </tr>\n",
       "    <tr>\n",
       "      <th>2018-01-01 00:02:28.422689+00:00</th>\n",
       "      <td>21.353333</td>\n",
       "      <td>55.700000</td>\n",
       "      <td>12.22</td>\n",
       "    </tr>\n",
       "    <tr>\n",
       "      <th>2018-01-01 00:05:13.601185+00:00</th>\n",
       "      <td>18.430000</td>\n",
       "      <td>55.766667</td>\n",
       "      <td>12.13</td>\n",
       "    </tr>\n",
       "    <tr>\n",
       "      <th>...</th>\n",
       "      <td>...</td>\n",
       "      <td>...</td>\n",
       "      <td>...</td>\n",
       "    </tr>\n",
       "    <tr>\n",
       "      <th>2024-03-19 04:29:38.801140+00:00</th>\n",
       "      <td>48.500000</td>\n",
       "      <td>99.900000</td>\n",
       "      <td>42.00</td>\n",
       "    </tr>\n",
       "    <tr>\n",
       "      <th>2024-03-19 04:29:54.950380+00:00</th>\n",
       "      <td>45.000000</td>\n",
       "      <td>99.900000</td>\n",
       "      <td>43.00</td>\n",
       "    </tr>\n",
       "    <tr>\n",
       "      <th>2024-03-19 04:30:09.830855+00:00</th>\n",
       "      <td>47.200000</td>\n",
       "      <td>99.900000</td>\n",
       "      <td>38.20</td>\n",
       "    </tr>\n",
       "    <tr>\n",
       "      <th>2024-03-19 04:30:10.744598+00:00</th>\n",
       "      <td>48.100000</td>\n",
       "      <td>99.900000</td>\n",
       "      <td>38.35</td>\n",
       "    </tr>\n",
       "    <tr>\n",
       "      <th>2024-03-19 04:30:42.060092+00:00</th>\n",
       "      <td>49.000000</td>\n",
       "      <td>99.900000</td>\n",
       "      <td>38.50</td>\n",
       "    </tr>\n",
       "  </tbody>\n",
       "</table>\n",
       "<p>27722456 rows × 3 columns</p>\n",
       "</div>"
      ],
      "text/plain": [
       "                                         P1   humidity     P2\n",
       "timestamp                                                    \n",
       "2018-01-01 00:02:00.522075+00:00  27.200000  55.700000  12.40\n",
       "2018-01-01 00:02:09.561058+00:00  27.200000  55.700000  12.40\n",
       "2018-01-01 00:02:18.891954+00:00  24.276667  55.700000  12.31\n",
       "2018-01-01 00:02:28.422689+00:00  21.353333  55.700000  12.22\n",
       "2018-01-01 00:05:13.601185+00:00  18.430000  55.766667  12.13\n",
       "...                                     ...        ...    ...\n",
       "2024-03-19 04:29:38.801140+00:00  48.500000  99.900000  42.00\n",
       "2024-03-19 04:29:54.950380+00:00  45.000000  99.900000  43.00\n",
       "2024-03-19 04:30:09.830855+00:00  47.200000  99.900000  38.20\n",
       "2024-03-19 04:30:10.744598+00:00  48.100000  99.900000  38.35\n",
       "2024-03-19 04:30:42.060092+00:00  49.000000  99.900000  38.50\n",
       "\n",
       "[27722456 rows x 3 columns]"
      ]
     },
     "execution_count": 44,
     "metadata": {},
     "output_type": "execute_result"
    }
   ],
   "source": [
    "# Apply linear interpolation\n",
    "df_interpolated = data_cleaned.interpolate(method='linear',limit_direction ='both')\n",
    "df_interpolated"
   ]
  },
  {
   "cell_type": "code",
   "execution_count": 45,
   "metadata": {},
   "outputs": [
    {
     "data": {
      "text/plain": [
       "P1          0\n",
       "humidity    0\n",
       "P2          0\n",
       "dtype: int64"
      ]
     },
     "execution_count": 45,
     "metadata": {},
     "output_type": "execute_result"
    }
   ],
   "source": [
    "df_interpolated.isna().sum()"
   ]
  },
  {
   "cell_type": "markdown",
   "metadata": {},
   "source": [
    "***Analysis after imputation***"
   ]
  },
  {
   "cell_type": "code",
   "execution_count": 54,
   "metadata": {},
   "outputs": [
    {
     "data": {
      "text/html": [
       "<div>\n",
       "<style scoped>\n",
       "    .dataframe tbody tr th:only-of-type {\n",
       "        vertical-align: middle;\n",
       "    }\n",
       "\n",
       "    .dataframe tbody tr th {\n",
       "        vertical-align: top;\n",
       "    }\n",
       "\n",
       "    .dataframe thead th {\n",
       "        text-align: right;\n",
       "    }\n",
       "</style>\n",
       "<table border=\"1\" class=\"dataframe\">\n",
       "  <thead>\n",
       "    <tr style=\"text-align: right;\">\n",
       "      <th></th>\n",
       "      <th>P1</th>\n",
       "      <th>humidity</th>\n",
       "      <th>P2</th>\n",
       "    </tr>\n",
       "  </thead>\n",
       "  <tbody>\n",
       "    <tr>\n",
       "      <th>count</th>\n",
       "      <td>2.772246e+07</td>\n",
       "      <td>2.772246e+07</td>\n",
       "      <td>2.772246e+07</td>\n",
       "    </tr>\n",
       "    <tr>\n",
       "      <th>mean</th>\n",
       "      <td>2.256556e+01</td>\n",
       "      <td>1.025309e+02</td>\n",
       "      <td>1.821067e+01</td>\n",
       "    </tr>\n",
       "    <tr>\n",
       "      <th>std</th>\n",
       "      <td>3.074710e+01</td>\n",
       "      <td>1.271658e+03</td>\n",
       "      <td>2.519300e+01</td>\n",
       "    </tr>\n",
       "    <tr>\n",
       "      <th>min</th>\n",
       "      <td>-1.000000e+00</td>\n",
       "      <td>-2.000000e+02</td>\n",
       "      <td>-1.000000e+00</td>\n",
       "    </tr>\n",
       "    <tr>\n",
       "      <th>25%</th>\n",
       "      <td>1.056500e+01</td>\n",
       "      <td>5.460000e+01</td>\n",
       "      <td>7.700000e+00</td>\n",
       "    </tr>\n",
       "    <tr>\n",
       "      <th>50%</th>\n",
       "      <td>1.702500e+01</td>\n",
       "      <td>6.810000e+01</td>\n",
       "      <td>1.400000e+01</td>\n",
       "    </tr>\n",
       "    <tr>\n",
       "      <th>75%</th>\n",
       "      <td>2.640000e+01</td>\n",
       "      <td>8.620000e+01</td>\n",
       "      <td>2.250000e+01</td>\n",
       "    </tr>\n",
       "    <tr>\n",
       "      <th>max</th>\n",
       "      <td>2.254330e+03</td>\n",
       "      <td>6.553500e+04</td>\n",
       "      <td>1.124400e+03</td>\n",
       "    </tr>\n",
       "  </tbody>\n",
       "</table>\n",
       "</div>"
      ],
      "text/plain": [
       "                 P1      humidity            P2\n",
       "count  2.772246e+07  2.772246e+07  2.772246e+07\n",
       "mean   2.256556e+01  1.025309e+02  1.821067e+01\n",
       "std    3.074710e+01  1.271658e+03  2.519300e+01\n",
       "min   -1.000000e+00 -2.000000e+02 -1.000000e+00\n",
       "25%    1.056500e+01  5.460000e+01  7.700000e+00\n",
       "50%    1.702500e+01  6.810000e+01  1.400000e+01\n",
       "75%    2.640000e+01  8.620000e+01  2.250000e+01\n",
       "max    2.254330e+03  6.553500e+04  1.124400e+03"
      ]
     },
     "execution_count": 54,
     "metadata": {},
     "output_type": "execute_result"
    }
   ],
   "source": [
    "df_interpolated.describe()"
   ]
  },
  {
   "cell_type": "code",
   "execution_count": 52,
   "metadata": {},
   "outputs": [
    {
     "data": {
      "text/plain": [
       "array([[<Axes: title={'center': 'P1'}>,\n",
       "        <Axes: title={'center': 'humidity'}>],\n",
       "       [<Axes: title={'center': 'P2'}>, <Axes: >]], dtype=object)"
      ]
     },
     "execution_count": 52,
     "metadata": {},
     "output_type": "execute_result"
    },
    {
     "data": {
      "image/png": "[encoded data removed]",
      "text/plain": [
       "<Figure size 640x480 with 4 Axes>"
      ]
     },
     "metadata": {},
     "output_type": "display_data"
    }
   ],
   "source": [
    "df_interpolated.hist()"
   ]
  },
  {
   "cell_type": "code",
   "execution_count": 55,
   "metadata": {},
   "outputs": [
    {
     "data": {
      "text/plain": [
       "<Axes: >"
      ]
     },
     "execution_count": 55,
     "metadata": {},
     "output_type": "execute_result"
    },
    {
     "data": {
      "image/png": "[encoded data removed]",
      "text/plain": [
       "<Figure size 640x480 with 1 Axes>"
      ]
     },
     "metadata": {},
     "output_type": "display_data"
    }
   ],
   "source": [
    "df_interpolated.boxplot()"
   ]
  },
  {
   "cell_type": "markdown",
   "metadata": {},
   "source": [
    "## Resampling the data to daily"
   ]
  },
  {
   "cell_type": "code",
   "execution_count": 56,
   "metadata": {},
   "outputs": [
    {
     "data": {
      "text/html": [
       "<div>\n",
       "<style scoped>\n",
       "    .dataframe tbody tr th:only-of-type {\n",
       "        vertical-align: middle;\n",
       "    }\n",
       "\n",
       "    .dataframe tbody tr th {\n",
       "        vertical-align: top;\n",
       "    }\n",
       "\n",
       "    .dataframe thead th {\n",
       "        text-align: right;\n",
       "    }\n",
       "</style>\n",
       "<table border=\"1\" class=\"dataframe\">\n",
       "  <thead>\n",
       "    <tr style=\"text-align: right;\">\n",
       "      <th></th>\n",
       "      <th>P1</th>\n",
       "      <th>humidity</th>\n",
       "      <th>P2</th>\n",
       "    </tr>\n",
       "    <tr>\n",
       "      <th>timestamp</th>\n",
       "      <th></th>\n",
       "      <th></th>\n",
       "      <th></th>\n",
       "    </tr>\n",
       "  </thead>\n",
       "  <tbody>\n",
       "    <tr>\n",
       "      <th>2018-01-01 00:00:00+00:00</th>\n",
       "      <td>22.340921</td>\n",
       "      <td>50.413740</td>\n",
       "      <td>10.614917</td>\n",
       "    </tr>\n",
       "    <tr>\n",
       "      <th>2018-01-02 00:00:00+00:00</th>\n",
       "      <td>50.618430</td>\n",
       "      <td>56.260093</td>\n",
       "      <td>22.822799</td>\n",
       "    </tr>\n",
       "    <tr>\n",
       "      <th>2018-01-03 00:00:00+00:00</th>\n",
       "      <td>42.808169</td>\n",
       "      <td>61.215489</td>\n",
       "      <td>18.967205</td>\n",
       "    </tr>\n",
       "    <tr>\n",
       "      <th>2018-01-04 00:00:00+00:00</th>\n",
       "      <td>55.252669</td>\n",
       "      <td>66.257806</td>\n",
       "      <td>29.112031</td>\n",
       "    </tr>\n",
       "    <tr>\n",
       "      <th>2018-01-05 00:00:00+00:00</th>\n",
       "      <td>45.205250</td>\n",
       "      <td>55.823218</td>\n",
       "      <td>22.735453</td>\n",
       "    </tr>\n",
       "    <tr>\n",
       "      <th>...</th>\n",
       "      <td>...</td>\n",
       "      <td>...</td>\n",
       "      <td>...</td>\n",
       "    </tr>\n",
       "    <tr>\n",
       "      <th>2024-03-15 00:00:00+00:00</th>\n",
       "      <td>32.890541</td>\n",
       "      <td>97.299513</td>\n",
       "      <td>28.021744</td>\n",
       "    </tr>\n",
       "    <tr>\n",
       "      <th>2024-03-16 00:00:00+00:00</th>\n",
       "      <td>43.526250</td>\n",
       "      <td>85.594703</td>\n",
       "      <td>36.743619</td>\n",
       "    </tr>\n",
       "    <tr>\n",
       "      <th>2024-03-17 00:00:00+00:00</th>\n",
       "      <td>27.044263</td>\n",
       "      <td>65.544379</td>\n",
       "      <td>23.572891</td>\n",
       "    </tr>\n",
       "    <tr>\n",
       "      <th>2024-03-18 00:00:00+00:00</th>\n",
       "      <td>25.823364</td>\n",
       "      <td>88.040562</td>\n",
       "      <td>22.220350</td>\n",
       "    </tr>\n",
       "    <tr>\n",
       "      <th>2024-03-19 00:00:00+00:00</th>\n",
       "      <td>29.533160</td>\n",
       "      <td>95.617809</td>\n",
       "      <td>24.728550</td>\n",
       "    </tr>\n",
       "  </tbody>\n",
       "</table>\n",
       "<p>2270 rows × 3 columns</p>\n",
       "</div>"
      ],
      "text/plain": [
       "                                  P1   humidity         P2\n",
       "timestamp                                                 \n",
       "2018-01-01 00:00:00+00:00  22.340921  50.413740  10.614917\n",
       "2018-01-02 00:00:00+00:00  50.618430  56.260093  22.822799\n",
       "2018-01-03 00:00:00+00:00  42.808169  61.215489  18.967205\n",
       "2018-01-04 00:00:00+00:00  55.252669  66.257806  29.112031\n",
       "2018-01-05 00:00:00+00:00  45.205250  55.823218  22.735453\n",
       "...                              ...        ...        ...\n",
       "2024-03-15 00:00:00+00:00  32.890541  97.299513  28.021744\n",
       "2024-03-16 00:00:00+00:00  43.526250  85.594703  36.743619\n",
       "2024-03-17 00:00:00+00:00  27.044263  65.544379  23.572891\n",
       "2024-03-18 00:00:00+00:00  25.823364  88.040562  22.220350\n",
       "2024-03-19 00:00:00+00:00  29.533160  95.617809  24.728550\n",
       "\n",
       "[2270 rows x 3 columns]"
      ]
     },
     "execution_count": 56,
     "metadata": {},
     "output_type": "execute_result"
    }
   ],
   "source": [
    "# Resample to daily frequency, e.g., using the mean of the values per day\n",
    "df1 = df_interpolated.resample('D').mean()\n",
    "df1"
   ]
  },
  {
   "cell_type": "markdown",
   "metadata": {},
   "source": [
    "**Checking for missing values**"
   ]
  },
  {
   "cell_type": "code",
   "execution_count": 82,
   "metadata": {},
   "outputs": [
    {
     "data": {
      "text/plain": [
       "timestamp     0\n",
       "P1           34\n",
       "humidity     34\n",
       "P2           34\n",
       "dtype: int64"
      ]
     },
     "execution_count": 82,
     "metadata": {},
     "output_type": "execute_result"
    }
   ],
   "source": [
    "df1.isna().sum()"
   ]
  },
  {
   "cell_type": "code",
   "execution_count": 83,
   "metadata": {},
   "outputs": [],
   "source": [
    "df1 = df1.interpolate(method='linear')"
   ]
  },
  {
   "cell_type": "code",
   "execution_count": 84,
   "metadata": {},
   "outputs": [
    {
     "data": {
      "text/plain": [
       "timestamp    0\n",
       "P1           0\n",
       "humidity     0\n",
       "P2           0\n",
       "dtype: int64"
      ]
     },
     "execution_count": 84,
     "metadata": {},
     "output_type": "execute_result"
    }
   ],
   "source": [
    "df1.isna().sum()"
   ]
  },
  {
   "cell_type": "markdown",
   "metadata": {},
   "source": [
    "## Loading more data"
   ]
  },
  {
   "cell_type": "markdown",
   "metadata": {},
   "source": [
    "**Precipitation Data**"
   ]
  },
  {
   "cell_type": "code",
   "execution_count": 85,
   "metadata": {},
   "outputs": [
    {
     "data": {
      "text/plain": [
       "timestamp        datetime64[ns]\n",
       "precipitation           float64\n",
       "dtype: object"
      ]
     },
     "execution_count": 85,
     "metadata": {},
     "output_type": "execute_result"
    }
   ],
   "source": [
    "df2=pd.read_csv('C:/Users/USER/Documents/Msc_DSA/Module 2/Research Methodology/Sensor Africal Data for Nairobi/Analysis/Satellite Data/Precipitation.csv')\n",
    "# Convert 'timestamp' to datetime\n",
    "df2['timestamp'] = pd.to_datetime(df2['timestamp'], format='%b %d, %Y')\n",
    "\n",
    "df2.dtypes"
   ]
  },
  {
   "cell_type": "code",
   "execution_count": 86,
   "metadata": {},
   "outputs": [
    {
     "data": {
      "text/html": [
       "<div>\n",
       "<style scoped>\n",
       "    .dataframe tbody tr th:only-of-type {\n",
       "        vertical-align: middle;\n",
       "    }\n",
       "\n",
       "    .dataframe tbody tr th {\n",
       "        vertical-align: top;\n",
       "    }\n",
       "\n",
       "    .dataframe thead th {\n",
       "        text-align: right;\n",
       "    }\n",
       "</style>\n",
       "<table border=\"1\" class=\"dataframe\">\n",
       "  <thead>\n",
       "    <tr style=\"text-align: right;\">\n",
       "      <th></th>\n",
       "      <th>timestamp</th>\n",
       "      <th>precipitation</th>\n",
       "    </tr>\n",
       "  </thead>\n",
       "  <tbody>\n",
       "    <tr>\n",
       "      <th>0</th>\n",
       "      <td>2018-01-01</td>\n",
       "      <td>0.489</td>\n",
       "    </tr>\n",
       "    <tr>\n",
       "      <th>1</th>\n",
       "      <td>2018-01-02</td>\n",
       "      <td>3.496</td>\n",
       "    </tr>\n",
       "    <tr>\n",
       "      <th>2</th>\n",
       "      <td>2018-01-03</td>\n",
       "      <td>5.400</td>\n",
       "    </tr>\n",
       "    <tr>\n",
       "      <th>3</th>\n",
       "      <td>2018-01-04</td>\n",
       "      <td>2.720</td>\n",
       "    </tr>\n",
       "    <tr>\n",
       "      <th>4</th>\n",
       "      <td>2018-01-05</td>\n",
       "      <td>0.000</td>\n",
       "    </tr>\n",
       "    <tr>\n",
       "      <th>...</th>\n",
       "      <td>...</td>\n",
       "      <td>...</td>\n",
       "    </tr>\n",
       "    <tr>\n",
       "      <th>2265</th>\n",
       "      <td>2024-03-15</td>\n",
       "      <td>0.000</td>\n",
       "    </tr>\n",
       "    <tr>\n",
       "      <th>2266</th>\n",
       "      <td>2024-03-16</td>\n",
       "      <td>0.000</td>\n",
       "    </tr>\n",
       "    <tr>\n",
       "      <th>2267</th>\n",
       "      <td>2024-03-17</td>\n",
       "      <td>0.000</td>\n",
       "    </tr>\n",
       "    <tr>\n",
       "      <th>2268</th>\n",
       "      <td>2024-03-18</td>\n",
       "      <td>0.000</td>\n",
       "    </tr>\n",
       "    <tr>\n",
       "      <th>2269</th>\n",
       "      <td>2024-03-19</td>\n",
       "      <td>0.000</td>\n",
       "    </tr>\n",
       "  </tbody>\n",
       "</table>\n",
       "<p>2270 rows × 2 columns</p>\n",
       "</div>"
      ],
      "text/plain": [
       "      timestamp  precipitation\n",
       "0    2018-01-01          0.489\n",
       "1    2018-01-02          3.496\n",
       "2    2018-01-03          5.400\n",
       "3    2018-01-04          2.720\n",
       "4    2018-01-05          0.000\n",
       "...         ...            ...\n",
       "2265 2024-03-15          0.000\n",
       "2266 2024-03-16          0.000\n",
       "2267 2024-03-17          0.000\n",
       "2268 2024-03-18          0.000\n",
       "2269 2024-03-19          0.000\n",
       "\n",
       "[2270 rows x 2 columns]"
      ]
     },
     "execution_count": 86,
     "metadata": {},
     "output_type": "execute_result"
    }
   ],
   "source": [
    "# Define the cutoff date\n",
    "cutoff_date = pd.Timestamp('2024-03-20')\n",
    "\n",
    "# Drop rows where the timestamp is on or after the cutoff date\n",
    "df2 = df2[df2['timestamp'] < cutoff_date]\n",
    "df2"
   ]
  },
  {
   "cell_type": "code",
   "execution_count": 87,
   "metadata": {},
   "outputs": [
    {
     "data": {
      "text/plain": [
       "timestamp        0\n",
       "precipitation    0\n",
       "dtype: int64"
      ]
     },
     "execution_count": 87,
     "metadata": {},
     "output_type": "execute_result"
    }
   ],
   "source": [
    "# Checking for null values\n",
    "df2.isna().sum()"
   ]
  },
  {
   "cell_type": "markdown",
   "metadata": {},
   "source": [
    "**Temperature Data**"
   ]
  },
  {
   "cell_type": "code",
   "execution_count": 88,
   "metadata": {},
   "outputs": [
    {
     "data": {
      "text/plain": [
       "timestamp       datetime64[ns]\n",
       "temperature            float64\n",
       "dtype: object"
      ]
     },
     "execution_count": 88,
     "metadata": {},
     "output_type": "execute_result"
    }
   ],
   "source": [
    "df3= pd.read_csv('C:/Users/USER/Documents/Msc_DSA/Module 2/Research Methodology/Sensor Africal Data for Nairobi/Analysis/Satellite Data/Temperature.csv')\n",
    "# Convert 'timestamp' to datetime\n",
    "df3['timestamp'] = pd.to_datetime(df3['timestamp'], format='%Y-%m-%d')\n",
    "\n",
    "df3.dtypes"
   ]
  },
  {
   "cell_type": "code",
   "execution_count": 89,
   "metadata": {},
   "outputs": [
    {
     "data": {
      "text/html": [
       "<div>\n",
       "<style scoped>\n",
       "    .dataframe tbody tr th:only-of-type {\n",
       "        vertical-align: middle;\n",
       "    }\n",
       "\n",
       "    .dataframe tbody tr th {\n",
       "        vertical-align: top;\n",
       "    }\n",
       "\n",
       "    .dataframe thead th {\n",
       "        text-align: right;\n",
       "    }\n",
       "</style>\n",
       "<table border=\"1\" class=\"dataframe\">\n",
       "  <thead>\n",
       "    <tr style=\"text-align: right;\">\n",
       "      <th></th>\n",
       "      <th>timestamp</th>\n",
       "      <th>temperature</th>\n",
       "    </tr>\n",
       "  </thead>\n",
       "  <tbody>\n",
       "    <tr>\n",
       "      <th>0</th>\n",
       "      <td>2018-01-01</td>\n",
       "      <td>21.4613</td>\n",
       "    </tr>\n",
       "    <tr>\n",
       "      <th>1</th>\n",
       "      <td>2018-01-02</td>\n",
       "      <td>21.1622</td>\n",
       "    </tr>\n",
       "    <tr>\n",
       "      <th>2</th>\n",
       "      <td>2018-01-03</td>\n",
       "      <td>19.4010</td>\n",
       "    </tr>\n",
       "    <tr>\n",
       "      <th>3</th>\n",
       "      <td>2018-01-04</td>\n",
       "      <td>18.0373</td>\n",
       "    </tr>\n",
       "    <tr>\n",
       "      <th>4</th>\n",
       "      <td>2018-01-05</td>\n",
       "      <td>18.4811</td>\n",
       "    </tr>\n",
       "    <tr>\n",
       "      <th>...</th>\n",
       "      <td>...</td>\n",
       "      <td>...</td>\n",
       "    </tr>\n",
       "    <tr>\n",
       "      <th>2265</th>\n",
       "      <td>2024-03-15</td>\n",
       "      <td>20.3418</td>\n",
       "    </tr>\n",
       "    <tr>\n",
       "      <th>2266</th>\n",
       "      <td>2024-03-16</td>\n",
       "      <td>20.8429</td>\n",
       "    </tr>\n",
       "    <tr>\n",
       "      <th>2267</th>\n",
       "      <td>2024-03-17</td>\n",
       "      <td>22.3856</td>\n",
       "    </tr>\n",
       "    <tr>\n",
       "      <th>2268</th>\n",
       "      <td>2024-03-18</td>\n",
       "      <td>21.8343</td>\n",
       "    </tr>\n",
       "    <tr>\n",
       "      <th>2269</th>\n",
       "      <td>2024-03-19</td>\n",
       "      <td>22.0217</td>\n",
       "    </tr>\n",
       "  </tbody>\n",
       "</table>\n",
       "<p>2270 rows × 2 columns</p>\n",
       "</div>"
      ],
      "text/plain": [
       "      timestamp  temperature \n",
       "0    2018-01-01       21.4613\n",
       "1    2018-01-02       21.1622\n",
       "2    2018-01-03       19.4010\n",
       "3    2018-01-04       18.0373\n",
       "4    2018-01-05       18.4811\n",
       "...         ...           ...\n",
       "2265 2024-03-15       20.3418\n",
       "2266 2024-03-16       20.8429\n",
       "2267 2024-03-17       22.3856\n",
       "2268 2024-03-18       21.8343\n",
       "2269 2024-03-19       22.0217\n",
       "\n",
       "[2270 rows x 2 columns]"
      ]
     },
     "execution_count": 89,
     "metadata": {},
     "output_type": "execute_result"
    }
   ],
   "source": [
    "# Define the cutoff date\n",
    "cutoff_date = pd.Timestamp('2024-03-20')\n",
    "\n",
    "# Drop rows where the timestamp is on or after the cutoff date\n",
    "df3 = df3[df3['timestamp'] < cutoff_date]\n",
    "df3"
   ]
  },
  {
   "cell_type": "code",
   "execution_count": 90,
   "metadata": {},
   "outputs": [
    {
     "data": {
      "text/plain": [
       "timestamp       0\n",
       "temperature     0\n",
       "dtype: int64"
      ]
     },
     "execution_count": 90,
     "metadata": {},
     "output_type": "execute_result"
    }
   ],
   "source": [
    "# Checking for null values\n",
    "df3.isna().sum()"
   ]
  },
  {
   "cell_type": "markdown",
   "metadata": {},
   "source": [
    "**Wind speed Data**"
   ]
  },
  {
   "cell_type": "code",
   "execution_count": 91,
   "metadata": {},
   "outputs": [
    {
     "data": {
      "text/plain": [
       "timestamp     datetime64[ns]\n",
       "wind speed           float64\n",
       "dtype: object"
      ]
     },
     "execution_count": 91,
     "metadata": {},
     "output_type": "execute_result"
    }
   ],
   "source": [
    "df4 = pd.read_csv('C:/Users/USER/Documents/Msc_DSA/Module 2/Research Methodology/Sensor Africal Data for Nairobi/Analysis/Satellite Data/Wind speed.csv')\n",
    "# Convert 'timestamp' to datetime\n",
    "df4['timestamp'] = pd.to_datetime(df4['timestamp'], format='%Y-%m-%d')\n",
    "\n",
    "df4.dtypes"
   ]
  },
  {
   "cell_type": "code",
   "execution_count": 92,
   "metadata": {},
   "outputs": [
    {
     "data": {
      "text/html": [
       "<div>\n",
       "<style scoped>\n",
       "    .dataframe tbody tr th:only-of-type {\n",
       "        vertical-align: middle;\n",
       "    }\n",
       "\n",
       "    .dataframe tbody tr th {\n",
       "        vertical-align: top;\n",
       "    }\n",
       "\n",
       "    .dataframe thead th {\n",
       "        text-align: right;\n",
       "    }\n",
       "</style>\n",
       "<table border=\"1\" class=\"dataframe\">\n",
       "  <thead>\n",
       "    <tr style=\"text-align: right;\">\n",
       "      <th></th>\n",
       "      <th>timestamp</th>\n",
       "      <th>wind speed</th>\n",
       "    </tr>\n",
       "  </thead>\n",
       "  <tbody>\n",
       "    <tr>\n",
       "      <th>0</th>\n",
       "      <td>2018-01-01</td>\n",
       "      <td>0.7640</td>\n",
       "    </tr>\n",
       "    <tr>\n",
       "      <th>1</th>\n",
       "      <td>2018-01-02</td>\n",
       "      <td>0.3317</td>\n",
       "    </tr>\n",
       "    <tr>\n",
       "      <th>2</th>\n",
       "      <td>2018-01-03</td>\n",
       "      <td>0.3039</td>\n",
       "    </tr>\n",
       "    <tr>\n",
       "      <th>3</th>\n",
       "      <td>2018-01-04</td>\n",
       "      <td>0.1981</td>\n",
       "    </tr>\n",
       "    <tr>\n",
       "      <th>4</th>\n",
       "      <td>2018-01-05</td>\n",
       "      <td>1.0235</td>\n",
       "    </tr>\n",
       "    <tr>\n",
       "      <th>...</th>\n",
       "      <td>...</td>\n",
       "      <td>...</td>\n",
       "    </tr>\n",
       "    <tr>\n",
       "      <th>2265</th>\n",
       "      <td>2024-03-15</td>\n",
       "      <td>3.2414</td>\n",
       "    </tr>\n",
       "    <tr>\n",
       "      <th>2266</th>\n",
       "      <td>2024-03-16</td>\n",
       "      <td>2.3932</td>\n",
       "    </tr>\n",
       "    <tr>\n",
       "      <th>2267</th>\n",
       "      <td>2024-03-17</td>\n",
       "      <td>2.2987</td>\n",
       "    </tr>\n",
       "    <tr>\n",
       "      <th>2268</th>\n",
       "      <td>2024-03-18</td>\n",
       "      <td>2.7257</td>\n",
       "    </tr>\n",
       "    <tr>\n",
       "      <th>2269</th>\n",
       "      <td>2024-03-19</td>\n",
       "      <td>3.0064</td>\n",
       "    </tr>\n",
       "  </tbody>\n",
       "</table>\n",
       "<p>2270 rows × 2 columns</p>\n",
       "</div>"
      ],
      "text/plain": [
       "      timestamp  wind speed\n",
       "0    2018-01-01      0.7640\n",
       "1    2018-01-02      0.3317\n",
       "2    2018-01-03      0.3039\n",
       "3    2018-01-04      0.1981\n",
       "4    2018-01-05      1.0235\n",
       "...         ...         ...\n",
       "2265 2024-03-15      3.2414\n",
       "2266 2024-03-16      2.3932\n",
       "2267 2024-03-17      2.2987\n",
       "2268 2024-03-18      2.7257\n",
       "2269 2024-03-19      3.0064\n",
       "\n",
       "[2270 rows x 2 columns]"
      ]
     },
     "execution_count": 92,
     "metadata": {},
     "output_type": "execute_result"
    }
   ],
   "source": [
    "# Define the cutoff date\n",
    "cutoff_date = pd.Timestamp('2024-03-20')\n",
    "\n",
    "# Drop rows where the timestamp is on or after the cutoff date\n",
    "df4 = df4[df4['timestamp'] < cutoff_date]\n",
    "df4"
   ]
  },
  {
   "cell_type": "code",
   "execution_count": 93,
   "metadata": {},
   "outputs": [
    {
     "data": {
      "text/plain": [
       "timestamp     0\n",
       "wind speed    0\n",
       "dtype: int64"
      ]
     },
     "execution_count": 93,
     "metadata": {},
     "output_type": "execute_result"
    }
   ],
   "source": [
    "# Checking for null values\n",
    "df4.isna().sum()"
   ]
  },
  {
   "cell_type": "markdown",
   "metadata": {},
   "source": [
    "## Merging all four datasets"
   ]
  },
  {
   "cell_type": "code",
   "execution_count": 94,
   "metadata": {},
   "outputs": [],
   "source": [
    "#Removing timezone\n",
    "df1 = df1.reset_index()\n",
    "df1['timestamp'] = df1['timestamp'].dt.tz_localize(None)\n",
    "df2['timestamp'] = df2['timestamp'].dt.tz_localize(None)\n",
    "df3['timestamp'] = df3['timestamp'].dt.tz_localize(None)\n",
    "df4['timestamp'] = df4['timestamp'].dt.tz_localize(None)"
   ]
  },
  {
   "cell_type": "code",
   "execution_count": 97,
   "metadata": {},
   "outputs": [
    {
     "data": {
      "text/html": [
       "<div>\n",
       "<style scoped>\n",
       "    .dataframe tbody tr th:only-of-type {\n",
       "        vertical-align: middle;\n",
       "    }\n",
       "\n",
       "    .dataframe tbody tr th {\n",
       "        vertical-align: top;\n",
       "    }\n",
       "\n",
       "    .dataframe thead th {\n",
       "        text-align: right;\n",
       "    }\n",
       "</style>\n",
       "<table border=\"1\" class=\"dataframe\">\n",
       "  <thead>\n",
       "    <tr style=\"text-align: right;\">\n",
       "      <th></th>\n",
       "      <th>P1</th>\n",
       "      <th>humidity</th>\n",
       "      <th>P2</th>\n",
       "      <th>precipitation</th>\n",
       "      <th>temperature</th>\n",
       "      <th>wind speed</th>\n",
       "    </tr>\n",
       "    <tr>\n",
       "      <th>timestamp</th>\n",
       "      <th></th>\n",
       "      <th></th>\n",
       "      <th></th>\n",
       "      <th></th>\n",
       "      <th></th>\n",
       "      <th></th>\n",
       "    </tr>\n",
       "  </thead>\n",
       "  <tbody>\n",
       "    <tr>\n",
       "      <th>2018-01-01</th>\n",
       "      <td>22.340921</td>\n",
       "      <td>50.413740</td>\n",
       "      <td>10.614917</td>\n",
       "      <td>0.489</td>\n",
       "      <td>21.4613</td>\n",
       "      <td>0.7640</td>\n",
       "    </tr>\n",
       "    <tr>\n",
       "      <th>2018-01-02</th>\n",
       "      <td>50.618430</td>\n",
       "      <td>56.260093</td>\n",
       "      <td>22.822799</td>\n",
       "      <td>3.496</td>\n",
       "      <td>21.1622</td>\n",
       "      <td>0.3317</td>\n",
       "    </tr>\n",
       "    <tr>\n",
       "      <th>2018-01-03</th>\n",
       "      <td>42.808169</td>\n",
       "      <td>61.215489</td>\n",
       "      <td>18.967205</td>\n",
       "      <td>5.400</td>\n",
       "      <td>19.4010</td>\n",
       "      <td>0.3039</td>\n",
       "    </tr>\n",
       "    <tr>\n",
       "      <th>2018-01-04</th>\n",
       "      <td>55.252669</td>\n",
       "      <td>66.257806</td>\n",
       "      <td>29.112031</td>\n",
       "      <td>2.720</td>\n",
       "      <td>18.0373</td>\n",
       "      <td>0.1981</td>\n",
       "    </tr>\n",
       "    <tr>\n",
       "      <th>2018-01-05</th>\n",
       "      <td>45.205250</td>\n",
       "      <td>55.823218</td>\n",
       "      <td>22.735453</td>\n",
       "      <td>0.000</td>\n",
       "      <td>18.4811</td>\n",
       "      <td>1.0235</td>\n",
       "    </tr>\n",
       "    <tr>\n",
       "      <th>...</th>\n",
       "      <td>...</td>\n",
       "      <td>...</td>\n",
       "      <td>...</td>\n",
       "      <td>...</td>\n",
       "      <td>...</td>\n",
       "      <td>...</td>\n",
       "    </tr>\n",
       "    <tr>\n",
       "      <th>2024-03-15</th>\n",
       "      <td>32.890541</td>\n",
       "      <td>97.299513</td>\n",
       "      <td>28.021744</td>\n",
       "      <td>0.000</td>\n",
       "      <td>20.3418</td>\n",
       "      <td>3.2414</td>\n",
       "    </tr>\n",
       "    <tr>\n",
       "      <th>2024-03-16</th>\n",
       "      <td>43.526250</td>\n",
       "      <td>85.594703</td>\n",
       "      <td>36.743619</td>\n",
       "      <td>0.000</td>\n",
       "      <td>20.8429</td>\n",
       "      <td>2.3932</td>\n",
       "    </tr>\n",
       "    <tr>\n",
       "      <th>2024-03-17</th>\n",
       "      <td>27.044263</td>\n",
       "      <td>65.544379</td>\n",
       "      <td>23.572891</td>\n",
       "      <td>0.000</td>\n",
       "      <td>22.3856</td>\n",
       "      <td>2.2987</td>\n",
       "    </tr>\n",
       "    <tr>\n",
       "      <th>2024-03-18</th>\n",
       "      <td>25.823364</td>\n",
       "      <td>88.040562</td>\n",
       "      <td>22.220350</td>\n",
       "      <td>0.000</td>\n",
       "      <td>21.8343</td>\n",
       "      <td>2.7257</td>\n",
       "    </tr>\n",
       "    <tr>\n",
       "      <th>2024-03-19</th>\n",
       "      <td>29.533160</td>\n",
       "      <td>95.617809</td>\n",
       "      <td>24.728550</td>\n",
       "      <td>0.000</td>\n",
       "      <td>22.0217</td>\n",
       "      <td>3.0064</td>\n",
       "    </tr>\n",
       "  </tbody>\n",
       "</table>\n",
       "<p>2270 rows × 6 columns</p>\n",
       "</div>"
      ],
      "text/plain": [
       "                   P1   humidity         P2  precipitation  temperature   \\\n",
       "timestamp                                                                  \n",
       "2018-01-01  22.340921  50.413740  10.614917          0.489       21.4613   \n",
       "2018-01-02  50.618430  56.260093  22.822799          3.496       21.1622   \n",
       "2018-01-03  42.808169  61.215489  18.967205          5.400       19.4010   \n",
       "2018-01-04  55.252669  66.257806  29.112031          2.720       18.0373   \n",
       "2018-01-05  45.205250  55.823218  22.735453          0.000       18.4811   \n",
       "...               ...        ...        ...            ...           ...   \n",
       "2024-03-15  32.890541  97.299513  28.021744          0.000       20.3418   \n",
       "2024-03-16  43.526250  85.594703  36.743619          0.000       20.8429   \n",
       "2024-03-17  27.044263  65.544379  23.572891          0.000       22.3856   \n",
       "2024-03-18  25.823364  88.040562  22.220350          0.000       21.8343   \n",
       "2024-03-19  29.533160  95.617809  24.728550          0.000       22.0217   \n",
       "\n",
       "            wind speed  \n",
       "timestamp               \n",
       "2018-01-01      0.7640  \n",
       "2018-01-02      0.3317  \n",
       "2018-01-03      0.3039  \n",
       "2018-01-04      0.1981  \n",
       "2018-01-05      1.0235  \n",
       "...                ...  \n",
       "2024-03-15      3.2414  \n",
       "2024-03-16      2.3932  \n",
       "2024-03-17      2.2987  \n",
       "2024-03-18      2.7257  \n",
       "2024-03-19      3.0064  \n",
       "\n",
       "[2270 rows x 6 columns]"
      ]
     },
     "execution_count": 97,
     "metadata": {},
     "output_type": "execute_result"
    }
   ],
   "source": [
    "# Merge df1 with df2\n",
    "merged_df = pd.merge(df1, df2, on='timestamp', how='inner')\n",
    "merged_df = pd.merge(merged_df, df3, on='timestamp', how='inner')\n",
    "merged_df = pd.merge(merged_df, df4, on='timestamp', how='inner')\n",
    "\n",
    "# Set 'timestamp' as the index\n",
    "merged_df = merged_df.drop(columns=['index'])\n",
    "merged_df.set_index('timestamp', inplace=True)\n",
    "merged_df"
   ]
  },
  {
   "cell_type": "code",
   "execution_count": 98,
   "metadata": {},
   "outputs": [
    {
     "data": {
      "text/plain": [
       "P1               0\n",
       "humidity         0\n",
       "P2               0\n",
       "precipitation    0\n",
       "temperature      0\n",
       "wind speed       0\n",
       "dtype: int64"
      ]
     },
     "execution_count": 98,
     "metadata": {},
     "output_type": "execute_result"
    }
   ],
   "source": [
    "# Checking for null values\n",
    "merged_df.isna().sum()"
   ]
  },
  {
   "cell_type": "code",
   "execution_count": 99,
   "metadata": {},
   "outputs": [],
   "source": [
    "merged_df.to_csv('data.csv')"
   ]
  },
  {
   "cell_type": "markdown",
   "metadata": {},
   "source": [
    "---"
   ]
  }
 ],
 "metadata": {
  "kernelspec": {
   "display_name": "base",
   "language": "python",
   "name": "python3"
  },
  "language_info": {
   "codemirror_mode": {
    "name": "ipython",
    "version": 3
   },
   "file_extension": ".py",
   "mimetype": "text/x-python",
   "name": "python",
   "nbconvert_exporter": "python",
   "pygments_lexer": "ipython3",
   "version": "3.11.5"
  }
 },
 "nbformat": 4,
 "nbformat_minor": 2
}
