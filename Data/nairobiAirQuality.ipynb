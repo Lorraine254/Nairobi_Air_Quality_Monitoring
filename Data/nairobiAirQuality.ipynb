{
 "cells": [
  {
   "cell_type": "markdown",
   "metadata": {},
   "source": [
    "# NAIROBI AIR QUALITY MONITORING"
   ]
  },
  {
   "cell_type": "code",
   "execution_count": 13,
   "metadata": {},
   "outputs": [],
   "source": [
    "# loading required libraries\n",
    "import pandas as pd\n",
    "import numpy as numpy\n"
   ]
  },
  {
   "cell_type": "markdown",
   "metadata": {},
   "source": [
    "## YEAR 2017"
   ]
  },
  {
   "cell_type": "code",
   "execution_count": 18,
   "metadata": {},
   "outputs": [],
   "source": [
    "july_2017 = pd.read_csv('july_2017_sensor_data_archive.csv', sep=';') # specifying the delimeter used in the csv in order to arrange our data in neat columns\n",
    "aug_2017 = pd.read_csv('august_2017_sensor_data_archive.csv',sep=';')\n",
    "sep_2017 = pd.read_csv('september_2017_sensor_data_archive.csv',sep=';')\n",
    "oct_2017 = pd.read_csv('october_2017_sensor_data_archive.csv',sep=';')\n",
    "nov_2017 = pd.read_csv('november_2017_sensor_data_archive.csv',sep=';')\n",
    "dec_2017 = pd.read_csv('december_2017_sensor_data_archive.csv',sep=';')\n"
   ]
  },
  {
   "cell_type": "code",
   "execution_count": 26,
   "metadata": {},
   "outputs": [
    {
     "data": {
      "text/plain": [
       "array(['max_micro', 'min_micro', 'samples', 'humidity', 'temperature'],\n",
       "      dtype=object)"
      ]
     },
     "execution_count": 26,
     "metadata": {},
     "output_type": "execute_result"
    }
   ],
   "source": [
    "# First few observation\n",
    "july_2017['value_type'].unique()"
   ]
  }
 ],
 "metadata": {
  "kernelspec": {
   "display_name": "Python 3",
   "language": "python",
   "name": "python3"
  },
  "language_info": {
   "codemirror_mode": {
    "name": "ipython",
    "version": 3
   },
   "file_extension": ".py",
   "mimetype": "text/x-python",
   "name": "python",
   "nbconvert_exporter": "python",
   "pygments_lexer": "ipython3",
   "version": "3.11.5"
  }
 },
 "nbformat": 4,
 "nbformat_minor": 2
}
